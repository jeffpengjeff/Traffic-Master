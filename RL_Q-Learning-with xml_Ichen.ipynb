{
 "cells": [
  {
   "cell_type": "code",
   "execution_count": 39,
   "metadata": {
    "collapsed": true
   },
   "outputs": [],
   "source": [
    "import numpy as np"
   ]
  },
  {
   "cell_type": "markdown",
   "metadata": {},
   "source": [
    "# Get OTM output from Python"
   ]
  },
  {
   "cell_type": "code",
   "execution_count": 40,
   "metadata": {},
   "outputs": [],
   "source": [
    "list_link_ids = ['27','28','29','30','31','32','33']\n",
    "list_ramp_ids = ['511','911','1011','1511'] # inlink for '27','29','30','33'\n",
    "den_none      = 0\n",
    "max_ramp_flow = 800\n",
    "tolerance     = 10\n",
    "\n",
    "\n",
    "# otm.run()\n",
    "\n",
    "# Version A (when we have OTM functions):\n",
    "\n",
    "# list_link_den     = otm.get_density(list_link_ids)\n",
    "# list_link_den_cri = otm.get_cri_density(list_link_ids)\n",
    "# list_link_den_jam = otm.get_jam_density(list_link_ids)\n",
    "# list_ramp_speed   = otm.get_speed(list_ramp_ids)\n",
    "\n",
    "# Version B (when we don't have OTM functions):\n",
    "\n",
    "list_link_den     = [32,56,61,77,94,80,71]\n",
    "list_link_den_cri = [60,60,60,60,60,60,60]\n",
    "list_link_den_jam = [120,120,120,120,120,120,120]\n",
    "list_ramp_speed   = [80,80,80,80]\n"
   ]
  },
  {
   "cell_type": "markdown",
   "metadata": {},
   "source": [
    "# Initialize Q-table with all zeros"
   ]
  },
  {
   "cell_type": "code",
   "execution_count": 41,
   "metadata": {},
   "outputs": [
    {
     "name": "stdout",
     "output_type": "stream",
     "text": [
      "[ 1  2  3  4  5  6  7  8  9 10 11 12 13 14 15 16 17 18 19 20 21 22 23 24\n",
      " 25 26 27 28 29 30 31 32 33 34 35 36 37 38 39 40 41 42 43 44 45 46 47 48\n",
      " 49 50 51 52 53 54 55 56 57 58 59 60 61 62 63 64 65 66 67 68 69 70 71 72\n",
      " 73 74 75 76 77 78 79 80 81 82 83 84]\n",
      "[1 2 3 4 5 6 7 8]\n",
      "(84, 8)\n"
     ]
    }
   ],
   "source": [
    "possible_den = np.arange(den_none, max(list_link_den_jam), 10)\n",
    "possible_act = [0,1] # 0: full red light; 1: full green light\n",
    "\n",
    "state_space = np.arange( 1, len(possible_den)*len(list_link_ids)+1, 1)\n",
    "act_space   = np.arange( 1, len(possible_act)*len(list_ramp_ids)+1, 1)\n",
    "\n",
    "print(state_space)\n",
    "print(act_space)\n",
    "\n",
    "Q    = np.zeros([len(state_space),len(act_space)])\n",
    "Qnew = np.ones( [len(state_space),len(act_space)])\n",
    "\n",
    "print(Q.shape)"
   ]
  },
  {
   "cell_type": "code",
   "execution_count": 42,
   "metadata": {},
   "outputs": [],
   "source": [
    "def reward(list1, list2, tolerance):\n",
    "    for i in range(len(list1)):\n",
    "        if abs( list1[i] - list2[i] ) <= tolerance:\n",
    "            r = 1\n",
    "        elif list1[i] - list2[i] <= 0:\n",
    "            r = 0.5\n",
    "        else:\n",
    "            r = -1\n",
    "        list_r.append(r)\n",
    "    \n",
    "    return min(list_r)"
   ]
  },
  {
   "cell_type": "code",
   "execution_count": 43,
   "metadata": {
    "collapsed": true
   },
   "outputs": [],
   "source": [
    "# Set learning parameters\n",
    "learning = 0.8\n",
    "discount = 0.95\n",
    "num_episodes = 2000\n",
    "max_gap = 0.01 "
   ]
  },
  {
   "cell_type": "code",
   "execution_count": 44,
   "metadata": {
    "collapsed": true
   },
   "outputs": [],
   "source": [
    "def quantize(list1, list2):\n",
    "    global i_q\n",
    "    for i in list1:\n",
    "        for j in list2:\n",
    "            if j-10 <= i < j:\n",
    "                i_q = j\n",
    "        list_q.append(i_q)    \n",
    "    return list_q"
   ]
  },
  {
   "cell_type": "code",
   "execution_count": 22,
   "metadata": {
    "collapsed": true
   },
   "outputs": [],
   "source": [
    "total_r = []\n",
    "for i in range(num_episodes):\n",
    "    \n",
    "    # Reset the environment\n",
    "    r_sum = 0\n",
    "    j     = 0\n",
    "    \n",
    "    while j < 5000:\n",
    "                \n",
    "        j += 1\n",
    "        noise = 0\n",
    "        #noise = np.random.randn(1,len(act_space))*(1./(i+1))\n",
    "        \n",
    "        \n",
    "        # 1. OTM running and get the new info\n",
    "        \n",
    "        # Version A (when we have OTM functions):\n",
    "\n",
    "        # list_link_den     = otm.get_density(list_link_ids)\n",
    "        # list_link_den_cri = otm.get_cri_density(list_link_ids)\n",
    "        # list_ramp_speed   = otm.get_speed(list_ramp_ids)\n",
    "\n",
    "        # Version B (when we don't have OTM functions):\n",
    "\n",
    "        list_link_den     = [32,56,61,77,94,80,71]\n",
    "        list_link_den_cri = [60,60,60,60,60,60,60]\n",
    "        list_ramp_speed   = [80,80,80,80]\n",
    "\n",
    "        \n",
    "        list_q = []\n",
    "        list_r = []\n",
    "        \n",
    "        list_link_den_qnt  = quantize(list_link_den, possible_den)\n",
    "        \n",
    "        reward = reward(list_link_den_qnt, list_link_den_cri, tolerance)\n",
    "        action =          \n",
    "        state  = \n",
    "        \n",
    "        # Q-table iteration\n",
    "        \n",
    "        s1 = \n",
    "        a  = np.argmax(Q[s,:] + noise)   \n",
    "               \n",
    "        Q[s,a] = Q[s,a] + learning * (r + discount * np.max( Q[s1,:] ) - Q[s,a] )\n",
    "        \n",
    "        r_sum += r\n",
    "        s = s1\n",
    "        \n",
    "        gap = abs(Qnew[s,a] - Q[s,a])\n",
    "        \n",
    "        if gap < max_gap:\n",
    "            break\n",
    "        \n",
    "        Qnew[s,a] = Q[s,a]\n",
    "        \n",
    "    total_r.append(r_sum)"
   ]
  },
  {
   "cell_type": "code",
   "execution_count": 23,
   "metadata": {},
   "outputs": [
    {
     "name": "stdout",
     "output_type": "stream",
     "text": [
      "[[ 5.55366364e-02  1.79171583e+01]\n",
      " [ 0.00000000e+00  0.00000000e+00]\n",
      " [ 5.23670151e-02  1.88344927e+01]\n",
      " [ 0.00000000e+00  0.00000000e+00]\n",
      " [ 0.00000000e+00  1.97768135e+01]\n",
      " [ 0.00000000e+00  0.00000000e+00]\n",
      " [ 1.97663346e+01 -1.60000000e+01]\n",
      " [ 0.00000000e+00  0.00000000e+00]\n",
      " [-3.99767560e+02 -4.13292272e+02]\n",
      " [ 0.00000000e+00  0.00000000e+00]]\n"
     ]
    }
   ],
   "source": [
    "print(Q) # continuous, not differentiable (symmetric)"
   ]
  },
  {
   "cell_type": "code",
   "execution_count": null,
   "metadata": {
    "collapsed": true
   },
   "outputs": [],
   "source": []
  }
 ],
 "metadata": {
  "kernelspec": {
   "display_name": "Python 3",
   "language": "python",
   "name": "python3"
  },
  "language_info": {
   "codemirror_mode": {
    "name": "ipython",
    "version": 3
   },
   "file_extension": ".py",
   "mimetype": "text/x-python",
   "name": "python",
   "nbconvert_exporter": "python",
   "pygments_lexer": "ipython3",
   "version": "3.7.1"
  }
 },
 "nbformat": 4,
 "nbformat_minor": 2
}
